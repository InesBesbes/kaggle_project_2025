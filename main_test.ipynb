{
 "cells": [
  {
   "cell_type": "markdown",
   "metadata": {},
   "source": [
    "# Import"
   ]
  },
  {
   "cell_type": "code",
   "execution_count": 1,
   "metadata": {},
   "outputs": [],
   "source": [
    "import os\n",
    "import pandas as pd\n",
    "import matplotlib.pyplot as plt\n",
    "from ase.io import read\n",
    "from ase.visualize.plot import plot_atoms\n",
    "from mpl_toolkits.mplot3d import Axes3D\n",
    "import random\n",
    "import numpy as np\n",
    "import os\n",
    "import pandas as pd\n",
    "import numpy as np\n",
    "from ase.io import read\n",
    "from tqdm import tqdm\n",
    "from sklearn.model_selection import train_test_split\n",
    "from sklearn.preprocessing import StandardScaler\n",
    "from sklearn.linear_model import LinearRegression\n",
    "from sklearn.metrics import mean_squared_error, r2_score\n"
   ]
  },
  {
   "cell_type": "code",
   "execution_count": 2,
   "metadata": {},
   "outputs": [],
   "source": [
    "# Path setup\n",
    "data_dir = \"./\"  # <-- Change this to your actual data path\n",
    "atoms_train_dir = os.path.join(data_dir, \"atoms\", \"train\")\n",
    "energies_csv = os.path.join(data_dir, \"energies\", \"train.csv\")"
   ]
  },
  {
   "cell_type": "code",
   "execution_count": 3,
   "metadata": {},
   "outputs": [],
   "source": [
    "import numpy as np\n",
    "import torch\n",
    "import time\n",
    "import os"
   ]
  },
  {
   "cell_type": "code",
   "execution_count": 4,
   "metadata": {},
   "outputs": [],
   "source": [
    "from sklearn import (linear_model, model_selection, preprocessing,\n",
    "                     pipeline)\n",
    "from scipy.spatial.distance import pdist"
   ]
  },
  {
   "cell_type": "code",
   "execution_count": 5,
   "metadata": {},
   "outputs": [],
   "source": [
    "from kymatio.torch import HarmonicScattering3D"
   ]
  },
  {
   "cell_type": "code",
   "execution_count": 6,
   "metadata": {},
   "outputs": [],
   "source": [
    "from kymatio.scattering3d.backend.torch_backend \\\n",
    "    import TorchBackend3D"
   ]
  },
  {
   "cell_type": "code",
   "execution_count": 7,
   "metadata": {},
   "outputs": [],
   "source": [
    "from kymatio.scattering3d.utils \\\n",
    "    import generate_weighted_sum_of_gaussians"
   ]
  },
  {
   "cell_type": "code",
   "execution_count": 8,
   "metadata": {},
   "outputs": [],
   "source": [
    "from kymatio.datasets import fetch_qm7\n",
    "from kymatio.caching import get_cache_dir"
   ]
  },
  {
   "cell_type": "markdown",
   "metadata": {},
   "source": [
    "# Energies dataframe"
   ]
  },
  {
   "cell_type": "code",
   "execution_count": 9,
   "metadata": {},
   "outputs": [
    {
     "name": "stdout",
     "output_type": "stream",
     "text": [
      "Loaded energy data:\n",
      "  id     energy\n",
      "  1 -90.107880\n",
      "  2 -69.927647\n",
      "  3 -69.979214\n",
      "  4 -73.402302\n",
      "  5 -78.936724\n"
     ]
    }
   ],
   "source": [
    "# Read energies CSV\n",
    "energies_df = pd.read_csv(energies_csv)\n",
    "print(\"Loaded energy data:\\n\", energies_df.head().to_string(index=False))"
   ]
  },
  {
   "cell_type": "markdown",
   "metadata": {},
   "source": [
    "# Positions and charges "
   ]
  },
  {
   "cell_type": "code",
   "execution_count": 10,
   "metadata": {},
   "outputs": [],
   "source": [
    "# === Extraction des features depuis les fichiers .xyz ===\n",
    "def extract_features(xyz_path):\n",
    "    atoms = read(xyz_path)\n",
    "    positions = atoms.get_positions()\n",
    "    charges = atoms.get_atomic_numbers()\n",
    "\n",
    "    # masses = atoms.get_masses()\n",
    "    # com = atoms.get_center_of_mass()\n",
    "    # max_dist = np.linalg.norm(atoms.positions - com, axis=1).max()\n",
    "    \n",
    "    return {\n",
    "        \"positions\":positions,\n",
    "        \"charges\": charges\n",
    "        # \"masse_totale\": masses.sum(),\n",
    "        # \"dist_centre_max\": max_dist\n",
    "    }"
   ]
  },
  {
   "cell_type": "code",
   "execution_count": 11,
   "metadata": {},
   "outputs": [],
   "source": [
    "import numpy as np\n",
    "import os\n",
    "from ase.io import read\n",
    "\n",
    "def extract_features(xyz_path):\n",
    "    atoms = read(xyz_path)\n",
    "    positions = atoms.get_positions()\n",
    "    charges = atoms.get_atomic_numbers()\n",
    "    return positions, charges\n",
    "\n",
    "def load_all_xyz(folder_path, max_atoms=23):\n",
    "    positions_list = []\n",
    "    charges_list = []\n",
    "    \n",
    "    xyz_files = sorted([\n",
    "        os.path.join(folder_path, f)\n",
    "        for f in os.listdir(folder_path)\n",
    "        if f.endswith('.xyz')\n",
    "    ])\n",
    "\n",
    "    for xyz_path in xyz_files:\n",
    "        pos, chg = extract_features(xyz_path)\n",
    "        \n",
    "        pos_padded = np.zeros((max_atoms, 3))\n",
    "        chg_padded = np.zeros((max_atoms,))\n",
    "        \n",
    "        n_atoms = pos.shape[0]\n",
    "        pos_padded[:n_atoms, :] = pos\n",
    "        chg_padded[:n_atoms] = chg\n",
    "\n",
    "        positions_list.append(pos_padded)\n",
    "        charges_list.append(chg_padded)\n",
    "\n",
    "    positions_array = np.stack(positions_list)  # shape (N, max_atoms, 3)\n",
    "    charges_array = np.stack(charges_list)      # shape (N, max_atoms)\n",
    "    \n",
    "    return positions_array, charges_array\n"
   ]
  },
  {
   "cell_type": "code",
   "execution_count": 12,
   "metadata": {},
   "outputs": [],
   "source": [
    "pos, full_charges = load_all_xyz(\"./atoms/train/\", max_atoms=23)\n",
    "n_molecules = pos.shape[0]"
   ]
  },
  {
   "cell_type": "markdown",
   "metadata": {},
   "source": [
    "# Data preparation"
   ]
  },
  {
   "cell_type": "code",
   "execution_count": 13,
   "metadata": {},
   "outputs": [],
   "source": [
    "mask = full_charges <= 2\n",
    "valence_charges = full_charges * mask\n",
    "\n",
    "mask = np.logical_and(full_charges > 2, full_charges <= 10)\n",
    "valence_charges += (full_charges - 2) * mask\n",
    "\n",
    "mask = np.logical_and(full_charges > 10, full_charges <= 18)\n",
    "valence_charges += (full_charges - 10) * mask"
   ]
  },
  {
   "cell_type": "code",
   "execution_count": 14,
   "metadata": {},
   "outputs": [],
   "source": [
    "overlapping_precision = 1e-1\n",
    "sigma = 2.0\n",
    "min_dist = np.inf\n",
    "\n",
    "for i in range(n_molecules):\n",
    "    n_atoms = np.sum(full_charges[i] != 0)\n",
    "    pos_i = pos[i, :n_atoms, :]\n",
    "    min_dist = min(min_dist, pdist(pos_i).min())\n",
    "\n",
    "delta = sigma * np.sqrt(-8 * np.log(overlapping_precision))\n",
    "pos = pos * delta / min_dist"
   ]
  },
  {
   "cell_type": "markdown",
   "metadata": {},
   "source": [
    "## Scattering Transform\n",
    "\n"
   ]
  },
  {
   "cell_type": "code",
   "execution_count": 15,
   "metadata": {},
   "outputs": [],
   "source": [
    "M, N, O = 32, 32, 32\n",
    "# M, N, O = 64, 64, 64\n",
    "# M, N, O = 192, 128, 96\n",
    "\n",
    "\n",
    "grid = np.mgrid[-M//2:-M//2+M, -N//2:-N//2+N, -O//2:-O//2+O]\n",
    "grid = np.fft.ifftshift(grid)"
   ]
  },
  {
   "cell_type": "code",
   "execution_count": 16,
   "metadata": {},
   "outputs": [],
   "source": [
    "J = 1\n",
    "L = 2\n",
    "integral_powers = [0.5, 1.0, 2.0, 3.0]\n",
    "\n",
    "scattering = HarmonicScattering3D(J=J, shape=(M, N, O),\n",
    "                                  L=L, sigma_0=sigma,\n",
    "                                  integral_powers=integral_powers)"
   ]
  },
  {
   "cell_type": "code",
   "execution_count": 17,
   "metadata": {},
   "outputs": [
    {
     "data": {
      "text/plain": [
       "HarmonicScattering3D()"
      ]
     },
     "execution_count": 17,
     "metadata": {},
     "output_type": "execute_result"
    }
   ],
   "source": [
    "use_cuda = torch.cuda.is_available()\n",
    "device = torch.device(\"cuda\" if use_cuda else \"cpu\")\n",
    "scattering.to(device)"
   ]
  },
  {
   "cell_type": "code",
   "execution_count": 18,
   "metadata": {},
   "outputs": [
    {
     "data": {
      "text/plain": [
       "device(type='cuda')"
      ]
     },
     "execution_count": 18,
     "metadata": {},
     "output_type": "execute_result"
    }
   ],
   "source": [
    "device"
   ]
  },
  {
   "cell_type": "markdown",
   "metadata": {},
   "source": [
    "The maps computed for each molecule are quite large, so the computation has\n",
    "to be done by batches. Here we select a small batch size to ensure that we\n",
    "have enough memory when running on the GPU. Dividing the number of molecules\n",
    "by the batch size then gives us the number of batches.\n",
    "\n"
   ]
  },
  {
   "cell_type": "code",
   "execution_count": 19,
   "metadata": {},
   "outputs": [
    {
     "name": "stdout",
     "output_type": "stream",
     "text": [
      "103\n"
     ]
    }
   ],
   "source": [
    "batch_size = 64\n",
    "n_batches = int(np.ceil(n_molecules / batch_size))\n",
    "print(n_batches)"
   ]
  },
  {
   "cell_type": "markdown",
   "metadata": {},
   "source": [
    "We are now ready to compute the scattering transforms. In the following\n",
    "loop, each batch of molecules is transformed into three maps using Gaussians\n",
    "centered at the atomic positions, one for the nuclear charges, one for the\n",
    "valence charges, and one with their difference (called the “core” charges).\n",
    "For each map, we compute its scattering transform up to order two and store\n",
    "the results.\n",
    "\n"
   ]
  },
  {
   "cell_type": "code",
   "execution_count": 20,
   "metadata": {},
   "outputs": [
    {
     "name": "stdout",
     "output_type": "stream",
     "text": [
      "Computing solid harmonic scattering coefficients of 6591 molecules from the QM7 database on GPU\n",
      "sigma: 2.0, L: 2, J: 1, integral powers: [0.5, 1.0, 2.0, 3.0]\n",
      "Iteration 1 ETA: -\n",
      "Iteration 2 ETA: [00:03:26]\n",
      "Iteration 3 ETA: [00:02:47]\n",
      "Iteration 4 ETA: [00:02:46]\n",
      "Iteration 5 ETA: [00:02:46]\n",
      "Iteration 6 ETA: [00:02:40]\n",
      "Iteration 7 ETA: [00:02:38]\n",
      "Iteration 8 ETA: [00:02:35]\n",
      "Iteration 9 ETA: [00:02:33]\n",
      "Iteration 10 ETA: [00:02:32]\n",
      "Iteration 11 ETA: [00:02:32]\n",
      "Iteration 12 ETA: [00:02:29]\n",
      "Iteration 13 ETA: [00:02:25]\n",
      "Iteration 14 ETA: [00:02:29]\n",
      "Iteration 15 ETA: [00:02:23]\n",
      "Iteration 16 ETA: [00:02:22]\n",
      "Iteration 17 ETA: [00:02:23]\n",
      "Iteration 18 ETA: [00:02:19]\n",
      "Iteration 19 ETA: [00:02:19]\n",
      "Iteration 20 ETA: [00:02:19]\n",
      "Iteration 21 ETA: [00:02:15]\n",
      "Iteration 22 ETA: [00:02:15]\n",
      "Iteration 23 ETA: [00:02:12]\n",
      "Iteration 24 ETA: [00:02:08]\n",
      "Iteration 25 ETA: [00:02:08]\n",
      "Iteration 26 ETA: [00:02:08]\n",
      "Iteration 27 ETA: [00:02:07]\n",
      "Iteration 28 ETA: [00:02:02]\n",
      "Iteration 29 ETA: [00:02:02]\n",
      "Iteration 30 ETA: [00:02:00]\n",
      "Iteration 31 ETA: [00:01:58]\n",
      "Iteration 32 ETA: [00:01:56]\n",
      "Iteration 33 ETA: [00:01:56]\n",
      "Iteration 34 ETA: [00:01:54]\n",
      "Iteration 35 ETA: [00:01:52]\n",
      "Iteration 36 ETA: [00:01:51]\n",
      "Iteration 37 ETA: [00:01:48]\n",
      "Iteration 38 ETA: [00:01:44]\n",
      "Iteration 39 ETA: [00:01:44]\n",
      "Iteration 40 ETA: [00:01:44]\n",
      "Iteration 41 ETA: [00:01:43]\n",
      "Iteration 42 ETA: [00:01:40]\n",
      "Iteration 43 ETA: [00:01:39]\n",
      "Iteration 44 ETA: [00:01:36]\n",
      "Iteration 45 ETA: [00:01:35]\n",
      "Iteration 46 ETA: [00:01:33]\n",
      "Iteration 47 ETA: [00:01:34]\n",
      "Iteration 48 ETA: [00:01:31]\n",
      "Iteration 49 ETA: [00:01:29]\n",
      "Iteration 50 ETA: [00:01:27]\n",
      "Iteration 51 ETA: [00:01:25]\n",
      "Iteration 52 ETA: [00:01:25]\n",
      "Iteration 53 ETA: [00:01:22]\n",
      "Iteration 54 ETA: [00:01:20]\n",
      "Iteration 55 ETA: [00:01:21]\n",
      "Iteration 56 ETA: [00:01:18]\n",
      "Iteration 57 ETA: [00:01:16]\n",
      "Iteration 58 ETA: [00:01:13]\n",
      "Iteration 59 ETA: [00:01:14]\n",
      "Iteration 60 ETA: [00:01:12]\n",
      "Iteration 61 ETA: [00:01:08]\n",
      "Iteration 62 ETA: [00:01:07]\n",
      "Iteration 63 ETA: [00:01:06]\n",
      "Iteration 64 ETA: [00:01:03]\n",
      "Iteration 65 ETA: [00:01:02]\n",
      "Iteration 66 ETA: [00:01:01]\n",
      "Iteration 67 ETA: [00:01:00]\n",
      "Iteration 68 ETA: [00:00:57]\n",
      "Iteration 69 ETA: [00:00:55]\n",
      "Iteration 70 ETA: [00:00:55]\n",
      "Iteration 71 ETA: [00:00:53]\n",
      "Iteration 72 ETA: [00:00:51]\n",
      "Iteration 73 ETA: [00:00:50]\n",
      "Iteration 74 ETA: [00:00:47]\n",
      "Iteration 75 ETA: [00:00:47]\n",
      "Iteration 76 ETA: [00:00:45]\n",
      "Iteration 77 ETA: [00:00:43]\n",
      "Iteration 78 ETA: [00:00:41]\n",
      "Iteration 79 ETA: [00:00:39]\n",
      "Iteration 80 ETA: [00:00:38]\n",
      "Iteration 81 ETA: [00:00:36]\n",
      "Iteration 82 ETA: [00:00:35]\n",
      "Iteration 83 ETA: [00:00:33]\n",
      "Iteration 84 ETA: [00:00:31]\n",
      "Iteration 85 ETA: [00:00:29]\n",
      "Iteration 86 ETA: [00:00:28]\n",
      "Iteration 87 ETA: [00:00:26]\n",
      "Iteration 88 ETA: [00:00:25]\n",
      "Iteration 89 ETA: [00:00:23]\n",
      "Iteration 90 ETA: [00:00:21]\n",
      "Iteration 91 ETA: [00:00:20]\n",
      "Iteration 92 ETA: [00:00:18]\n",
      "Iteration 93 ETA: [00:00:16]\n",
      "Iteration 94 ETA: [00:00:14]\n",
      "Iteration 95 ETA: [00:00:13]\n",
      "Iteration 96 ETA: [00:00:11]\n",
      "Iteration 97 ETA: [00:00:09]\n",
      "Iteration 98 ETA: [00:00:08]\n",
      "Iteration 99 ETA: [00:00:06]\n",
      "Iteration 100 ETA: [00:00:04]\n",
      "Iteration 101 ETA: [00:00:03]\n",
      "Iteration 102 ETA: [00:00:01]\n",
      "Iteration 103 ETA: [00:00:00]\n"
     ]
    }
   ],
   "source": [
    "order_0, orders_1_and_2 = [], []\n",
    "print('Computing solid harmonic scattering coefficients of '\n",
    "      '{} molecules from the QM7 database on {}'.format(\n",
    "        n_molecules,   \"GPU\" if use_cuda else \"CPU\"))\n",
    "print('sigma: {}, L: {}, J: {}, integral powers: {}'.format(\n",
    "        sigma, L, J, integral_powers))\n",
    "\n",
    "this_time = None\n",
    "last_time = None\n",
    "for i in range(n_batches):\n",
    "    this_time = time.time()\n",
    "    if last_time is not None:\n",
    "        dt = this_time - last_time\n",
    "        print(\"Iteration {} ETA: [{:02}:{:02}:{:02}]\".format(\n",
    "                    i + 1, int(((n_batches - i - 1) * dt) // 3600),\n",
    "                    int((((n_batches - i - 1) * dt) // 60) % 60),\n",
    "                    int(((n_batches - i - 1) * dt) % 60)))\n",
    "    else:\n",
    "        print(\"Iteration {} ETA: {}\".format(i + 1, '-'))\n",
    "    last_time = this_time\n",
    "    time.sleep(1)\n",
    "\n",
    "    # Extract the current batch.\n",
    "    start = i * batch_size\n",
    "    end = min(start + batch_size, n_molecules)\n",
    "\n",
    "    pos_batch = pos[start:end]\n",
    "    full_batch = full_charges[start:end]\n",
    "    val_batch = valence_charges[start:end]\n",
    "\n",
    "    # Calculate the density map for the nuclear charges and transfer\n",
    "    # to PyTorch.\n",
    "    full_density_batch = generate_weighted_sum_of_gaussians(grid,\n",
    "            pos_batch, full_batch, sigma)\n",
    "    full_density_batch = torch.from_numpy(full_density_batch)\n",
    "    full_density_batch = full_density_batch.to(device).float()\n",
    "\n",
    "    # Compute zeroth-order, first-order, and second-order scattering\n",
    "    # coefficients of the nuclear charges.\n",
    "    full_order_0 = TorchBackend3D.compute_integrals(full_density_batch,\n",
    "                                     integral_powers)\n",
    "    full_scattering = scattering(full_density_batch)\n",
    "\n",
    "    # Compute the map for valence charges.\n",
    "    val_density_batch = generate_weighted_sum_of_gaussians(grid,\n",
    "            pos_batch, val_batch, sigma)\n",
    "    val_density_batch = torch.from_numpy(val_density_batch)\n",
    "    val_density_batch = val_density_batch.to(device).float()\n",
    "\n",
    "    # Compute scattering coefficients for the valence charges.\n",
    "    val_order_0 = TorchBackend3D.compute_integrals(val_density_batch,\n",
    "                                    integral_powers)\n",
    "    val_scattering = scattering(val_density_batch)\n",
    "\n",
    "    # Take the difference between nuclear and valence charges, then\n",
    "    # compute the corresponding scattering coefficients.\n",
    "    core_density_batch = full_density_batch - val_density_batch\n",
    "\n",
    "    core_order_0 = TorchBackend3D.compute_integrals(core_density_batch,\n",
    "                                     integral_powers)\n",
    "    core_scattering = scattering(core_density_batch)\n",
    "\n",
    "    # Stack the nuclear, valence, and core coefficients into arrays\n",
    "    # and append them to the output.\n",
    "    batch_order_0 = torch.stack(\n",
    "        (full_order_0, val_order_0, core_order_0), dim=-1)\n",
    "    batch_orders_1_and_2 = torch.stack(\n",
    "        (full_scattering, val_scattering, core_scattering), dim=-1)\n",
    "\n",
    "    order_0.append(batch_order_0)\n",
    "    orders_1_and_2.append(batch_orders_1_and_2)"
   ]
  },
  {
   "cell_type": "code",
   "execution_count": 21,
   "metadata": {},
   "outputs": [],
   "source": [
    "order_0 = torch.cat(order_0, dim=0)\n",
    "orders_1_and_2 = torch.cat(orders_1_and_2, dim=0)\n",
    "\n",
    "order_0 = order_0.cpu().numpy()\n",
    "orders_1_and_2 = orders_1_and_2.cpu().numpy()"
   ]
  },
  {
   "cell_type": "markdown",
   "metadata": {},
   "source": [
    "# Regression"
   ]
  },
  {
   "cell_type": "code",
   "execution_count": 22,
   "metadata": {},
   "outputs": [],
   "source": [
    "order_0 = order_0.reshape((n_molecules, -1))\n",
    "orders_1_and_2 = orders_1_and_2.reshape((n_molecules, -1))"
   ]
  },
  {
   "cell_type": "code",
   "execution_count": 1,
   "metadata": {},
   "outputs": [],
   "source": [
    "# basename = 'molecule_L_{}_J_{}_sigma_{}_MNO_{}_powers_{}.npy'.format(\n",
    "#         L, J, sigma, (M, N, O), integral_powers)\n",
    "\n",
    "# cache_dir = get_cache_dir(\"ml_projet/\")\n",
    "\n",
    "# filename = os.path.join(cache_dir, 'order_0_' + basename)\n",
    "# np.save(filename, order_0)\n",
    "\n",
    "# filename = os.path.join(cache_dir, 'orders_1_and_2' + basename)\n",
    "# np.save(filename, orders_1_and_2)"
   ]
  },
  {
   "cell_type": "code",
   "execution_count": 23,
   "metadata": {},
   "outputs": [],
   "source": [
    "scattering_coef = np.concatenate([order_0, orders_1_and_2], axis=1)"
   ]
  },
  {
   "cell_type": "code",
   "execution_count": 24,
   "metadata": {},
   "outputs": [],
   "source": [
    "target = energies_df['energy'].to_list()"
   ]
  },
  {
   "cell_type": "code",
   "execution_count": 25,
   "metadata": {},
   "outputs": [],
   "source": [
    "n_folds = 3\n",
    "\n",
    "P = np.random.permutation(n_molecules).reshape((n_folds, -1))\n",
    "\n",
    "cross_val_folds = []\n",
    "\n",
    "for i_fold in range(n_folds):\n",
    "    fold = (np.concatenate(P[np.arange(n_folds) != i_fold], axis=0),\n",
    "            P[i_fold])\n",
    "    cross_val_folds.append(fold)"
   ]
  },
  {
   "cell_type": "code",
   "execution_count": 38,
   "metadata": {},
   "outputs": [],
   "source": [
    "# from sklearn import preprocessing, model_selection, pipeline, neural_network\n",
    "# from sklearn.metrics import mean_absolute_error, mean_squared_error\n"
   ]
  },
  {
   "cell_type": "code",
   "execution_count": 36,
   "metadata": {},
   "outputs": [],
   "source": [
    "# alphas = 10.0 ** (-np.arange(1, 10))  # on garde alphas juste pour la structure\n",
    "\n",
    "# # Test avec MLPRegressor\n",
    "# for i, alpha in enumerate(alphas):\n",
    "#     scaler = preprocessing.StandardScaler()\n",
    "    \n",
    "#     mlp = neural_network.MLPRegressor(\n",
    "#         hidden_layer_sizes=(100,),\n",
    "#         activation='relu',\n",
    "#         alpha=alpha,  # régularisation L2\n",
    "#         max_iter=1000,\n",
    "#         random_state=0\n",
    "#     )\n",
    "\n",
    "#     regressor = pipeline.make_pipeline(scaler, mlp)\n",
    "\n",
    "#     target_prediction = model_selection.cross_val_predict(\n",
    "#         regressor,\n",
    "#         X=scattering_coef, y=target,\n",
    "#         cv=cross_val_folds\n",
    "#     )\n",
    "\n",
    "#     MAE = mean_absolute_error(target, target_prediction)\n",
    "#     RMSE = np.sqrt(mean_squared_error(target, target_prediction))\n",
    "\n",
    "#     print(f'MLP regression, alpha: {alpha}, MAE: {MAE:.4f}, RMSE: {RMSE:.4f}')"
   ]
  },
  {
   "cell_type": "code",
   "execution_count": 37,
   "metadata": {},
   "outputs": [],
   "source": [
    "# import numpy as np\n",
    "# from sklearn import preprocessing, model_selection, pipeline\n",
    "# from sklearn.ensemble import RandomForestRegressor\n",
    "# from sklearn.metrics import mean_absolute_error, mean_squared_error\n",
    "\n",
    "# # Paramètres\n",
    "# n_folds = 3\n",
    "# n_estimators = 50  # Nombre d'arbres dans la forêt\n",
    "\n",
    "# # Création des folds de validation croisée\n",
    "# P = np.random.permutation(n_molecules).reshape((n_folds, -1))\n",
    "# cross_val_folds = [\n",
    "#     (np.concatenate(P[np.arange(n_folds) != i], axis=0), P[i])\n",
    "#     for i in range(n_folds)\n",
    "# ]\n",
    "\n",
    "# # Initialisation du modèle\n",
    "# scaler = preprocessing.StandardScaler()  # Pas obligatoire, mais inoffensif ici\n",
    "# rf = RandomForestRegressor(n_estimators=n_estimators, random_state=0)\n",
    "\n",
    "# # Pipeline (tu peux aussi retirer le scaler si tu veux)\n",
    "# regressor = pipeline.make_pipeline(scaler, rf)\n",
    "\n",
    "# # Prédiction avec validation croisée\n",
    "# target_prediction = model_selection.cross_val_predict(\n",
    "#     regressor,\n",
    "#     X=scattering_coef, y=target,\n",
    "#     cv=cross_val_folds\n",
    "# )\n",
    "\n",
    "# # Évaluation\n",
    "# MAE = mean_absolute_error(target, target_prediction)\n",
    "# RMSE = np.sqrt(mean_squared_error(target, target_prediction))\n",
    "\n",
    "# print(f'Random Forest regression, MAE: {MAE:.4f}, RMSE: {RMSE:.4f}')\n"
   ]
  },
  {
   "cell_type": "code",
   "execution_count": 29,
   "metadata": {},
   "outputs": [
    {
     "name": "stdout",
     "output_type": "stream",
     "text": [
      "Ridge regression, alpha: 0.1, MAE: 9.66172895229075, RMSE: 11.720544834581451\n",
      "Ridge regression, alpha: 0.01, MAE: 9.68187271689484, RMSE: 11.749491712067872\n"
     ]
    },
    {
     "name": "stderr",
     "output_type": "stream",
     "text": [
      "/home/sara/.local/lib/python3.10/site-packages/sklearn/linear_model/_ridge.py:200: LinAlgWarning: Ill-conditioned matrix (rcond=2.71834e-09): result may not be accurate.\n",
      "  return linalg.solve(A, Xy, assume_a=\"pos\", overwrite_a=True).T\n",
      "/home/sara/.local/lib/python3.10/site-packages/sklearn/linear_model/_ridge.py:200: LinAlgWarning: Ill-conditioned matrix (rcond=4.36847e-09): result may not be accurate.\n",
      "  return linalg.solve(A, Xy, assume_a=\"pos\", overwrite_a=True).T\n",
      "/home/sara/.local/lib/python3.10/site-packages/sklearn/linear_model/_ridge.py:200: LinAlgWarning: Ill-conditioned matrix (rcond=3.96315e-09): result may not be accurate.\n",
      "  return linalg.solve(A, Xy, assume_a=\"pos\", overwrite_a=True).T\n"
     ]
    },
    {
     "name": "stdout",
     "output_type": "stream",
     "text": [
      "Ridge regression, alpha: 0.001, MAE: 9.709746322747444, RMSE: 11.786689229310761\n",
      "Ridge regression, alpha: 0.0001, MAE: 9.726457380547803, RMSE: 11.811213122764853\n",
      "Ridge regression, alpha: 1e-05, MAE: 9.732403065270674, RMSE: 11.820604179851724\n",
      "Ridge regression, alpha: 1e-06, MAE: 9.737637633045809, RMSE: 11.830904890960003\n",
      "Ridge regression, alpha: 1e-07, MAE: 9.735915321665608, RMSE: 11.831444838889238\n",
      "Ridge regression, alpha: 1e-08, MAE: 9.73812517627796, RMSE: 11.837737414933907\n",
      "Ridge regression, alpha: 1e-09, MAE: 9.747173451948845, RMSE: 11.849300619055338\n"
     ]
    }
   ],
   "source": [
    "alphas = 10.0 ** (-np.arange(1, 10))\n",
    "for i, alpha in enumerate(alphas):\n",
    "    scaler = preprocessing.StandardScaler()\n",
    "    ridge = linear_model.Ridge(alpha=alpha)\n",
    "\n",
    "    regressor = pipeline.make_pipeline(scaler, ridge)\n",
    "\n",
    "    target_prediction = model_selection.cross_val_predict(regressor,\n",
    "            X=scattering_coef, y=target, cv=cross_val_folds)\n",
    "\n",
    "    MAE = np.mean(np.abs(target_prediction - target))\n",
    "    RMSE = np.sqrt(np.mean((target_prediction - target) ** 2))\n",
    "\n",
    "    print('Ridge regression, alpha: {}, MAE: {}, RMSE: {}'.format(\n",
    "        alpha, MAE, RMSE))"
   ]
  },
  {
   "cell_type": "code",
   "execution_count": 26,
   "metadata": {},
   "outputs": [
    {
     "name": "stdout",
     "output_type": "stream",
     "text": [
      "Ridge regression, alpha: 0.1, MAE: 9.660161972779612, RMSE: 11.712241073785105\n"
     ]
    },
    {
     "name": "stderr",
     "output_type": "stream",
     "text": [
      "/home/sara/.local/lib/python3.10/site-packages/sklearn/linear_model/_ridge.py:200: LinAlgWarning: Ill-conditioned matrix (rcond=4.89664e-10): result may not be accurate.\n",
      "  return linalg.solve(A, Xy, assume_a=\"pos\", overwrite_a=True).T\n",
      "/home/sara/.local/lib/python3.10/site-packages/sklearn/linear_model/_ridge.py:200: LinAlgWarning: Ill-conditioned matrix (rcond=1.05602e-09): result may not be accurate.\n",
      "  return linalg.solve(A, Xy, assume_a=\"pos\", overwrite_a=True).T\n",
      "/home/sara/.local/lib/python3.10/site-packages/sklearn/linear_model/_ridge.py:200: LinAlgWarning: Ill-conditioned matrix (rcond=3.44759e-10): result may not be accurate.\n",
      "  return linalg.solve(A, Xy, assume_a=\"pos\", overwrite_a=True).T\n"
     ]
    },
    {
     "name": "stdout",
     "output_type": "stream",
     "text": [
      "Ridge regression, alpha: 0.01, MAE: 9.669674170337464, RMSE: 11.731424644521882\n",
      "Ridge regression, alpha: 0.001, MAE: 9.696526951904591, RMSE: 11.761996635861857\n",
      "Ridge regression, alpha: 0.0001, MAE: 9.723082230372942, RMSE: 11.798352808098604\n",
      "Ridge regression, alpha: 1e-05, MAE: 9.734905479474499, RMSE: 11.819747260704862\n",
      "Ridge regression, alpha: 1e-06, MAE: 9.747007240729106, RMSE: 11.848899210384998\n",
      "Ridge regression, alpha: 1e-07, MAE: 9.753425244640692, RMSE: 11.866700369202182\n",
      "Ridge regression, alpha: 1e-08, MAE: 9.757285770441904, RMSE: 11.89218343573741\n",
      "Ridge regression, alpha: 1e-09, MAE: 9.762874554915413, RMSE: 11.90594535261694\n",
      "Best alpha selected: 0.1\n"
     ]
    },
    {
     "name": "stderr",
     "output_type": "stream",
     "text": [
      "/home/sara/.local/lib/python3.10/site-packages/sklearn/linear_model/_ridge.py:200: LinAlgWarning: Ill-conditioned matrix (rcond=5.90879e-08): result may not be accurate.\n",
      "  return linalg.solve(A, Xy, assume_a=\"pos\", overwrite_a=True).T\n"
     ]
    },
    {
     "data": {
      "text/html": [
       "<style>#sk-container-id-1 {color: black;}#sk-container-id-1 pre{padding: 0;}#sk-container-id-1 div.sk-toggleable {background-color: white;}#sk-container-id-1 label.sk-toggleable__label {cursor: pointer;display: block;width: 100%;margin-bottom: 0;padding: 0.3em;box-sizing: border-box;text-align: center;}#sk-container-id-1 label.sk-toggleable__label-arrow:before {content: \"▸\";float: left;margin-right: 0.25em;color: #696969;}#sk-container-id-1 label.sk-toggleable__label-arrow:hover:before {color: black;}#sk-container-id-1 div.sk-estimator:hover label.sk-toggleable__label-arrow:before {color: black;}#sk-container-id-1 div.sk-toggleable__content {max-height: 0;max-width: 0;overflow: hidden;text-align: left;background-color: #f0f8ff;}#sk-container-id-1 div.sk-toggleable__content pre {margin: 0.2em;color: black;border-radius: 0.25em;background-color: #f0f8ff;}#sk-container-id-1 input.sk-toggleable__control:checked~div.sk-toggleable__content {max-height: 200px;max-width: 100%;overflow: auto;}#sk-container-id-1 input.sk-toggleable__control:checked~label.sk-toggleable__label-arrow:before {content: \"▾\";}#sk-container-id-1 div.sk-estimator input.sk-toggleable__control:checked~label.sk-toggleable__label {background-color: #d4ebff;}#sk-container-id-1 div.sk-label input.sk-toggleable__control:checked~label.sk-toggleable__label {background-color: #d4ebff;}#sk-container-id-1 input.sk-hidden--visually {border: 0;clip: rect(1px 1px 1px 1px);clip: rect(1px, 1px, 1px, 1px);height: 1px;margin: -1px;overflow: hidden;padding: 0;position: absolute;width: 1px;}#sk-container-id-1 div.sk-estimator {font-family: monospace;background-color: #f0f8ff;border: 1px dotted black;border-radius: 0.25em;box-sizing: border-box;margin-bottom: 0.5em;}#sk-container-id-1 div.sk-estimator:hover {background-color: #d4ebff;}#sk-container-id-1 div.sk-parallel-item::after {content: \"\";width: 100%;border-bottom: 1px solid gray;flex-grow: 1;}#sk-container-id-1 div.sk-label:hover label.sk-toggleable__label {background-color: #d4ebff;}#sk-container-id-1 div.sk-serial::before {content: \"\";position: absolute;border-left: 1px solid gray;box-sizing: border-box;top: 0;bottom: 0;left: 50%;z-index: 0;}#sk-container-id-1 div.sk-serial {display: flex;flex-direction: column;align-items: center;background-color: white;padding-right: 0.2em;padding-left: 0.2em;position: relative;}#sk-container-id-1 div.sk-item {position: relative;z-index: 1;}#sk-container-id-1 div.sk-parallel {display: flex;align-items: stretch;justify-content: center;background-color: white;position: relative;}#sk-container-id-1 div.sk-item::before, #sk-container-id-1 div.sk-parallel-item::before {content: \"\";position: absolute;border-left: 1px solid gray;box-sizing: border-box;top: 0;bottom: 0;left: 50%;z-index: -1;}#sk-container-id-1 div.sk-parallel-item {display: flex;flex-direction: column;z-index: 1;position: relative;background-color: white;}#sk-container-id-1 div.sk-parallel-item:first-child::after {align-self: flex-end;width: 50%;}#sk-container-id-1 div.sk-parallel-item:last-child::after {align-self: flex-start;width: 50%;}#sk-container-id-1 div.sk-parallel-item:only-child::after {width: 0;}#sk-container-id-1 div.sk-dashed-wrapped {border: 1px dashed gray;margin: 0 0.4em 0.5em 0.4em;box-sizing: border-box;padding-bottom: 0.4em;background-color: white;}#sk-container-id-1 div.sk-label label {font-family: monospace;font-weight: bold;display: inline-block;line-height: 1.2em;}#sk-container-id-1 div.sk-label-container {text-align: center;}#sk-container-id-1 div.sk-container {/* jupyter's `normalize.less` sets `[hidden] { display: none; }` but bootstrap.min.css set `[hidden] { display: none !important; }` so we also need the `!important` here to be able to override the default hidden behavior on the sphinx rendered scikit-learn.org. See: https://github.com/scikit-learn/scikit-learn/issues/21755 */display: inline-block !important;position: relative;}#sk-container-id-1 div.sk-text-repr-fallback {display: none;}</style><div id=\"sk-container-id-1\" class=\"sk-top-container\"><div class=\"sk-text-repr-fallback\"><pre>Pipeline(steps=[(&#x27;standardscaler&#x27;, StandardScaler()),\n",
       "                (&#x27;ridge&#x27;, Ridge(alpha=0.1))])</pre><b>In a Jupyter environment, please rerun this cell to show the HTML representation or trust the notebook. <br />On GitHub, the HTML representation is unable to render, please try loading this page with nbviewer.org.</b></div><div class=\"sk-container\" hidden><div class=\"sk-item sk-dashed-wrapped\"><div class=\"sk-label-container\"><div class=\"sk-label sk-toggleable\"><input class=\"sk-toggleable__control sk-hidden--visually\" id=\"sk-estimator-id-1\" type=\"checkbox\" ><label for=\"sk-estimator-id-1\" class=\"sk-toggleable__label sk-toggleable__label-arrow\">Pipeline</label><div class=\"sk-toggleable__content\"><pre>Pipeline(steps=[(&#x27;standardscaler&#x27;, StandardScaler()),\n",
       "                (&#x27;ridge&#x27;, Ridge(alpha=0.1))])</pre></div></div></div><div class=\"sk-serial\"><div class=\"sk-item\"><div class=\"sk-estimator sk-toggleable\"><input class=\"sk-toggleable__control sk-hidden--visually\" id=\"sk-estimator-id-2\" type=\"checkbox\" ><label for=\"sk-estimator-id-2\" class=\"sk-toggleable__label sk-toggleable__label-arrow\">StandardScaler</label><div class=\"sk-toggleable__content\"><pre>StandardScaler()</pre></div></div></div><div class=\"sk-item\"><div class=\"sk-estimator sk-toggleable\"><input class=\"sk-toggleable__control sk-hidden--visually\" id=\"sk-estimator-id-3\" type=\"checkbox\" ><label for=\"sk-estimator-id-3\" class=\"sk-toggleable__label sk-toggleable__label-arrow\">Ridge</label><div class=\"sk-toggleable__content\"><pre>Ridge(alpha=0.1)</pre></div></div></div></div></div></div></div>"
      ],
      "text/plain": [
       "Pipeline(steps=[('standardscaler', StandardScaler()),\n",
       "                ('ridge', Ridge(alpha=0.1))])"
      ]
     },
     "execution_count": 26,
     "metadata": {},
     "output_type": "execute_result"
    }
   ],
   "source": [
    "import numpy as np\n",
    "import pandas as pd\n",
    "import torch\n",
    "from sklearn import preprocessing, linear_model, pipeline, model_selection\n",
    "\n",
    "# Étape 1 : Définir les alphas\n",
    "alphas = 10.0 ** (-np.arange(1, 10))\n",
    "best_mae = float('inf')\n",
    "best_alpha = None\n",
    "best_regressor = None\n",
    "\n",
    "# Tes données d'entraînement\n",
    "X = scattering_coef  # numpy array\n",
    "y = target            # numpy array\n",
    "cross_val_folds = 5   # ou une autre valeur selon ton besoin\n",
    "\n",
    "# Recherche du meilleur alpha\n",
    "for alpha in alphas:\n",
    "    scaler = preprocessing.StandardScaler()\n",
    "    ridge = linear_model.Ridge(alpha=alpha)\n",
    "    regressor = pipeline.make_pipeline(scaler, ridge)\n",
    "\n",
    "    target_prediction = model_selection.cross_val_predict(regressor, X=X, y=y, cv=cross_val_folds)\n",
    "\n",
    "    MAE = np.mean(np.abs(target_prediction - y))\n",
    "    RMSE = np.sqrt(np.mean((target_prediction - y) ** 2))\n",
    "\n",
    "    print(f'Ridge regression, alpha: {alpha}, MAE: {MAE}, RMSE: {RMSE}')\n",
    "\n",
    "    if MAE < best_mae:\n",
    "        best_mae = MAE\n",
    "        best_alpha = alpha\n",
    "        best_regressor = regressor\n",
    "\n",
    "# Étape 2 : Réentraîner le meilleur pipeline sur toutes les données\n",
    "print(f'Best alpha selected: {best_alpha}')\n",
    "best_regressor.fit(X, y)"
   ]
  },
  {
   "cell_type": "markdown",
   "metadata": {},
   "source": [
    "# test"
   ]
  },
  {
   "cell_type": "code",
   "execution_count": 28,
   "metadata": {},
   "outputs": [],
   "source": [
    "pos, full_charges = load_all_xyz(\"./atoms/test/\", max_atoms=23)\n",
    "n_molecules = pos.shape[0]"
   ]
  },
  {
   "cell_type": "code",
   "execution_count": 29,
   "metadata": {},
   "outputs": [],
   "source": [
    "mask = full_charges <= 2\n",
    "valence_charges = full_charges * mask\n",
    "\n",
    "mask = np.logical_and(full_charges > 2, full_charges <= 10)\n",
    "valence_charges += (full_charges - 2) * mask\n",
    "\n",
    "mask = np.logical_and(full_charges > 10, full_charges <= 18)\n",
    "valence_charges += (full_charges - 10) * mask"
   ]
  },
  {
   "cell_type": "code",
   "execution_count": 30,
   "metadata": {},
   "outputs": [],
   "source": [
    "overlapping_precision = 1e-1\n",
    "sigma = 2.0\n",
    "min_dist = np.inf\n",
    "\n",
    "for i in range(n_molecules):\n",
    "    n_atoms = np.sum(full_charges[i] != 0)\n",
    "    pos_i = pos[i, :n_atoms, :]\n",
    "    min_dist = min(min_dist, pdist(pos_i).min())\n",
    "\n",
    "delta = sigma * np.sqrt(-8 * np.log(overlapping_precision))\n",
    "pos = pos * delta / min_dist"
   ]
  },
  {
   "cell_type": "code",
   "execution_count": 31,
   "metadata": {},
   "outputs": [],
   "source": [
    "M, N, O = 32, 32, 32\n",
    "\n",
    "grid = np.mgrid[-M//2:-M//2+M, -N//2:-N//2+N, -O//2:-O//2+O]\n",
    "grid = np.fft.ifftshift(grid)"
   ]
  },
  {
   "cell_type": "code",
   "execution_count": 32,
   "metadata": {},
   "outputs": [],
   "source": [
    "J = 1\n",
    "L = 2\n",
    "integral_powers = [0.5, 1.0, 2.0, 3.0]\n",
    "\n",
    "scattering = HarmonicScattering3D(J=J, shape=(M, N, O),\n",
    "                                  L=L, sigma_0=sigma,\n",
    "                                  integral_powers=integral_powers)"
   ]
  },
  {
   "cell_type": "code",
   "execution_count": 33,
   "metadata": {},
   "outputs": [
    {
     "data": {
      "text/plain": [
       "HarmonicScattering3D()"
      ]
     },
     "execution_count": 33,
     "metadata": {},
     "output_type": "execute_result"
    }
   ],
   "source": [
    "use_cuda = torch.cuda.is_available()\n",
    "device = torch.device(\"cuda\" if use_cuda else \"cpu\")\n",
    "scattering.to(device)"
   ]
  },
  {
   "cell_type": "code",
   "execution_count": 34,
   "metadata": {},
   "outputs": [
    {
     "name": "stdout",
     "output_type": "stream",
     "text": [
      "26\n"
     ]
    }
   ],
   "source": [
    "batch_size = 64\n",
    "n_batches = int(np.ceil(n_molecules / batch_size))\n",
    "print(n_batches)"
   ]
  },
  {
   "cell_type": "code",
   "execution_count": 35,
   "metadata": {},
   "outputs": [
    {
     "name": "stdout",
     "output_type": "stream",
     "text": [
      "Computing solid harmonic scattering coefficients of 1647 molecules from the QM7 database on GPU\n",
      "sigma: 2.0, L: 2, J: 1, integral powers: [0.5, 1.0, 2.0, 3.0]\n",
      "Iteration 1 ETA: -\n",
      "Iteration 2 ETA: [00:00:39]\n",
      "Iteration 3 ETA: [00:00:37]\n",
      "Iteration 4 ETA: [00:00:36]\n",
      "Iteration 5 ETA: [00:00:34]\n",
      "Iteration 6 ETA: [00:00:32]\n",
      "Iteration 7 ETA: [00:00:31]\n",
      "Iteration 8 ETA: [00:00:29]\n",
      "Iteration 9 ETA: [00:00:28]\n",
      "Iteration 10 ETA: [00:00:26]\n",
      "Iteration 11 ETA: [00:00:25]\n",
      "Iteration 12 ETA: [00:00:23]\n",
      "Iteration 13 ETA: [00:00:21]\n",
      "Iteration 14 ETA: [00:00:20]\n",
      "Iteration 15 ETA: [00:00:17]\n",
      "Iteration 16 ETA: [00:00:16]\n",
      "Iteration 17 ETA: [00:00:15]\n",
      "Iteration 18 ETA: [00:00:13]\n",
      "Iteration 19 ETA: [00:00:11]\n",
      "Iteration 20 ETA: [00:00:09]\n",
      "Iteration 21 ETA: [00:00:08]\n",
      "Iteration 22 ETA: [00:00:06]\n",
      "Iteration 23 ETA: [00:00:04]\n",
      "Iteration 24 ETA: [00:00:03]\n",
      "Iteration 25 ETA: [00:00:01]\n",
      "Iteration 26 ETA: [00:00:00]\n"
     ]
    }
   ],
   "source": [
    "order_0, orders_1_and_2 = [], []\n",
    "print('Computing solid harmonic scattering coefficients of '\n",
    "      '{} molecules from the QM7 database on {}'.format(\n",
    "        n_molecules,   \"GPU\" if use_cuda else \"CPU\"))\n",
    "print('sigma: {}, L: {}, J: {}, integral powers: {}'.format(\n",
    "        sigma, L, J, integral_powers))\n",
    "\n",
    "this_time = None\n",
    "last_time = None\n",
    "for i in range(n_batches):\n",
    "    this_time = time.time()\n",
    "    if last_time is not None:\n",
    "        dt = this_time - last_time\n",
    "        print(\"Iteration {} ETA: [{:02}:{:02}:{:02}]\".format(\n",
    "                    i + 1, int(((n_batches - i - 1) * dt) // 3600),\n",
    "                    int((((n_batches - i - 1) * dt) // 60) % 60),\n",
    "                    int(((n_batches - i - 1) * dt) % 60)))\n",
    "    else:\n",
    "        print(\"Iteration {} ETA: {}\".format(i + 1, '-'))\n",
    "    last_time = this_time\n",
    "    time.sleep(1)\n",
    "\n",
    "    # Extract the current batch.\n",
    "    start = i * batch_size\n",
    "    end = min(start + batch_size, n_molecules)\n",
    "\n",
    "    pos_batch = pos[start:end]\n",
    "    full_batch = full_charges[start:end]\n",
    "    val_batch = valence_charges[start:end]\n",
    "\n",
    "    # Calculate the density map for the nuclear charges and transfer\n",
    "    # to PyTorch.\n",
    "    full_density_batch = generate_weighted_sum_of_gaussians(grid,\n",
    "            pos_batch, full_batch, sigma)\n",
    "    full_density_batch = torch.from_numpy(full_density_batch)\n",
    "    full_density_batch = full_density_batch.to(device).float()\n",
    "\n",
    "    # Compute zeroth-order, first-order, and second-order scattering\n",
    "    # coefficients of the nuclear charges.\n",
    "    full_order_0 = TorchBackend3D.compute_integrals(full_density_batch,\n",
    "                                     integral_powers)\n",
    "    full_scattering = scattering(full_density_batch)\n",
    "\n",
    "    # Compute the map for valence charges.\n",
    "    val_density_batch = generate_weighted_sum_of_gaussians(grid,\n",
    "            pos_batch, val_batch, sigma)\n",
    "    val_density_batch = torch.from_numpy(val_density_batch)\n",
    "    val_density_batch = val_density_batch.to(device).float()\n",
    "\n",
    "    # Compute scattering coefficients for the valence charges.\n",
    "    val_order_0 = TorchBackend3D.compute_integrals(val_density_batch,\n",
    "                                    integral_powers)\n",
    "    val_scattering = scattering(val_density_batch)\n",
    "\n",
    "    # Take the difference between nuclear and valence charges, then\n",
    "    # compute the corresponding scattering coefficients.\n",
    "    core_density_batch = full_density_batch - val_density_batch\n",
    "\n",
    "    core_order_0 = TorchBackend3D.compute_integrals(core_density_batch,\n",
    "                                     integral_powers)\n",
    "    core_scattering = scattering(core_density_batch)\n",
    "\n",
    "    # Stack the nuclear, valence, and core coefficients into arrays\n",
    "    # and append them to the output.\n",
    "    batch_order_0 = torch.stack(\n",
    "        (full_order_0, val_order_0, core_order_0), dim=-1)\n",
    "    batch_orders_1_and_2 = torch.stack(\n",
    "        (full_scattering, val_scattering, core_scattering), dim=-1)\n",
    "\n",
    "    order_0.append(batch_order_0)\n",
    "    orders_1_and_2.append(batch_orders_1_and_2)"
   ]
  },
  {
   "cell_type": "code",
   "execution_count": 36,
   "metadata": {},
   "outputs": [],
   "source": [
    "order_0 = torch.cat(order_0, dim=0)\n",
    "orders_1_and_2 = torch.cat(orders_1_and_2, dim=0)\n",
    "\n",
    "order_0 = order_0.cpu().numpy()\n",
    "orders_1_and_2 = orders_1_and_2.cpu().numpy()"
   ]
  },
  {
   "cell_type": "code",
   "execution_count": 37,
   "metadata": {},
   "outputs": [],
   "source": [
    "order_0 = order_0.reshape((n_molecules, -1))\n",
    "orders_1_and_2 = orders_1_and_2.reshape((n_molecules, -1))"
   ]
  },
  {
   "cell_type": "code",
   "execution_count": 38,
   "metadata": {},
   "outputs": [],
   "source": [
    "scattering_coef_test = np.concatenate([order_0, orders_1_and_2], axis=1)"
   ]
  },
  {
   "cell_type": "code",
   "execution_count": 43,
   "metadata": {},
   "outputs": [],
   "source": [
    "predictions = best_regressor.predict(scattering_coef_test)\n",
    "\n",
    "results = pd.DataFrame({\n",
    "    'id': np.arange(len(predictions)),\n",
    "    'energy': predictions\n",
    "})\n",
    "results = results.sort_values(by='energy').reset_index(drop=True)\n",
    "results['id'] = results['id'] + 6592\n",
    "results.to_csv('predictions.csv', index=False)"
   ]
  },
  {
   "cell_type": "code",
   "execution_count": 44,
   "metadata": {},
   "outputs": [
    {
     "data": {
      "text/html": [
       "<div>\n",
       "<style scoped>\n",
       "    .dataframe tbody tr th:only-of-type {\n",
       "        vertical-align: middle;\n",
       "    }\n",
       "\n",
       "    .dataframe tbody tr th {\n",
       "        vertical-align: top;\n",
       "    }\n",
       "\n",
       "    .dataframe thead th {\n",
       "        text-align: right;\n",
       "    }\n",
       "</style>\n",
       "<table border=\"1\" class=\"dataframe\">\n",
       "  <thead>\n",
       "    <tr style=\"text-align: right;\">\n",
       "      <th></th>\n",
       "      <th>id</th>\n",
       "      <th>energy</th>\n",
       "    </tr>\n",
       "  </thead>\n",
       "  <tbody>\n",
       "    <tr>\n",
       "      <th>0</th>\n",
       "      <td>7424</td>\n",
       "      <td>-82.951691</td>\n",
       "    </tr>\n",
       "    <tr>\n",
       "      <th>1</th>\n",
       "      <td>7520</td>\n",
       "      <td>-82.856049</td>\n",
       "    </tr>\n",
       "    <tr>\n",
       "      <th>2</th>\n",
       "      <td>6682</td>\n",
       "      <td>-82.324692</td>\n",
       "    </tr>\n",
       "    <tr>\n",
       "      <th>3</th>\n",
       "      <td>6761</td>\n",
       "      <td>-81.625381</td>\n",
       "    </tr>\n",
       "    <tr>\n",
       "      <th>4</th>\n",
       "      <td>7503</td>\n",
       "      <td>-81.058838</td>\n",
       "    </tr>\n",
       "    <tr>\n",
       "      <th>...</th>\n",
       "      <td>...</td>\n",
       "      <td>...</td>\n",
       "    </tr>\n",
       "    <tr>\n",
       "      <th>1642</th>\n",
       "      <td>6759</td>\n",
       "      <td>-74.520844</td>\n",
       "    </tr>\n",
       "    <tr>\n",
       "      <th>1643</th>\n",
       "      <td>7307</td>\n",
       "      <td>-74.437408</td>\n",
       "    </tr>\n",
       "    <tr>\n",
       "      <th>1644</th>\n",
       "      <td>7824</td>\n",
       "      <td>-74.249481</td>\n",
       "    </tr>\n",
       "    <tr>\n",
       "      <th>1645</th>\n",
       "      <td>8005</td>\n",
       "      <td>-74.048737</td>\n",
       "    </tr>\n",
       "    <tr>\n",
       "      <th>1646</th>\n",
       "      <td>7350</td>\n",
       "      <td>-74.034416</td>\n",
       "    </tr>\n",
       "  </tbody>\n",
       "</table>\n",
       "<p>1647 rows × 2 columns</p>\n",
       "</div>"
      ],
      "text/plain": [
       "        id     energy\n",
       "0     7424 -82.951691\n",
       "1     7520 -82.856049\n",
       "2     6682 -82.324692\n",
       "3     6761 -81.625381\n",
       "4     7503 -81.058838\n",
       "...    ...        ...\n",
       "1642  6759 -74.520844\n",
       "1643  7307 -74.437408\n",
       "1644  7824 -74.249481\n",
       "1645  8005 -74.048737\n",
       "1646  7350 -74.034416\n",
       "\n",
       "[1647 rows x 2 columns]"
      ]
     },
     "execution_count": 44,
     "metadata": {},
     "output_type": "execute_result"
    }
   ],
   "source": [
    "results"
   ]
  },
  {
   "cell_type": "code",
   "execution_count": null,
   "metadata": {},
   "outputs": [],
   "source": []
  }
 ],
 "metadata": {
  "kernelspec": {
   "display_name": "optim",
   "language": "python",
   "name": "python3"
  },
  "language_info": {
   "codemirror_mode": {
    "name": "ipython",
    "version": 3
   },
   "file_extension": ".py",
   "mimetype": "text/x-python",
   "name": "python",
   "nbconvert_exporter": "python",
   "pygments_lexer": "ipython3",
   "version": "3.10.13"
  }
 },
 "nbformat": 4,
 "nbformat_minor": 2
}
