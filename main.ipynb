{
 "cells": [
  {
   "cell_type": "code",
   "execution_count": 6,
   "metadata": {},
   "outputs": [],
   "source": [
    "import os\n",
    "import pandas as pd\n",
    "import matplotlib.pyplot as plt\n",
    "from ase.io import read\n",
    "from ase.visualize.plot import plot_atoms\n",
    "from mpl_toolkits.mplot3d import Axes3D\n",
    "import random\n",
    "import numpy as np\n",
    "import os\n",
    "import pandas as pd\n",
    "import numpy as np\n",
    "from ase.io import read\n",
    "from tqdm import tqdm\n"
   ]
  },
  {
   "cell_type": "code",
   "execution_count": 7,
   "metadata": {},
   "outputs": [],
   "source": [
    "# Path setup\n",
    "data_dir = \"./\"  # <-- Change this to your actual data path\n",
    "atoms_train_dir = os.path.join(data_dir, \"atoms\", \"train\")\n",
    "energies_csv = os.path.join(data_dir, \"energies\", \"train.csv\")"
   ]
  },
  {
   "cell_type": "code",
   "execution_count": 19,
   "metadata": {},
   "outputs": [
    {
     "name": "stdout",
     "output_type": "stream",
     "text": [
      "Loaded energy data:\n",
      "  id     energy\n",
      "  1 -90.107880\n",
      "  2 -69.927647\n",
      "  3 -69.979214\n",
      "  4 -73.402302\n",
      "  5 -78.936724\n"
     ]
    }
   ],
   "source": [
    "# Read energies CSV\n",
    "energies_df = pd.read_csv(energies_csv)\n",
    "print(\"Loaded energy data:\\n\", energies_df.head().to_string(index=False))"
   ]
  },
  {
   "cell_type": "code",
   "execution_count": 20,
   "metadata": {},
   "outputs": [],
   "source": [
    "# Analyze number of atoms per molecule\n",
    "num_atoms_list = []\n",
    "for file in sorted(os.listdir(atoms_train_dir)):\n",
    "    if file.endswith(\".xyz\"):\n",
    "        atoms = read(os.path.join(atoms_train_dir, file))\n",
    "        num_atoms_list.append(len(atoms))"
   ]
  },
  {
   "cell_type": "code",
   "execution_count": 20,
   "metadata": {},
   "outputs": [],
   "source": [
    "# # Plot distribution of number of atoms\n",
    "# plt.figure(figsize=(8, 5))\n",
    "# plt.hist(num_atoms_list, bins=20, color='skyblue', edgecolor='black')\n",
    "# plt.title(\"Distribution of Number of Atoms per Molecule\")\n",
    "# plt.xlabel(\"Number of atoms\")\n",
    "# plt.ylabel(\"Count\")\n",
    "# plt.grid(True)\n",
    "# plt.tight_layout()\n",
    "# plt.show()"
   ]
  },
  {
   "cell_type": "code",
   "execution_count": 21,
   "metadata": {},
   "outputs": [],
   "source": [
    "# # Plot distribution of energies\n",
    "# plt.figure(figsize=(8, 5))\n",
    "# plt.hist(energies_df['energy'], bins=30, color='lightgreen', edgecolor='black')\n",
    "# plt.title(\"Distribution of Atomization Energies\")\n",
    "# plt.xlabel(\"Energy (a.u.)\")\n",
    "# plt.ylabel(\"Count\")\n",
    "# plt.grid(True)\n",
    "# plt.tight_layout()\n",
    "# plt.show()"
   ]
  },
  {
   "cell_type": "code",
   "execution_count": 22,
   "metadata": {},
   "outputs": [],
   "source": [
    "# sample_files = random.sample(sorted(os.listdir(atoms_train_dir)), 3)\n",
    "# for fname in sample_files:\n",
    "#     atoms = read(os.path.join(atoms_train_dir, fname))\n",
    "#     fig, ax = plt.subplots(figsize=(5, 5))\n",
    "#     plot_atoms(atoms, ax, radii=0.3)\n",
    "#     ax.set_title(f\"Molecule: {fname}\")\n",
    "#     plt.axis('off')\n",
    "#     plt.show()"
   ]
  },
  {
   "cell_type": "code",
   "execution_count": 12,
   "metadata": {},
   "outputs": [],
   "source": [
    "# === Extraction des features depuis les fichiers .xyz ===\n",
    "def extract_features(xyz_path):\n",
    "    atoms = read(xyz_path)\n",
    "    masses = atoms.get_masses()\n",
    "    charges = atoms.get_atomic_numbers()\n",
    "    com = atoms.get_center_of_mass()\n",
    "    max_dist = np.linalg.norm(atoms.positions - com, axis=1).max()\n",
    "    \n",
    "    return {\n",
    "        \"nb_atoms\": len(atoms),\n",
    "        \"masse_totale\": masses.sum(),\n",
    "        \"Z_moyen\": charges.mean(),\n",
    "        \"dist_centre_max\": max_dist\n",
    "    }"
   ]
  },
  {
   "cell_type": "code",
   "execution_count": 21,
   "metadata": {},
   "outputs": [
    {
     "name": "stderr",
     "output_type": "stream",
     "text": [
      "  0%|          | 0/6591 [00:00<?, ?it/s]"
     ]
    },
    {
     "name": "stderr",
     "output_type": "stream",
     "text": [
      "100%|██████████| 6591/6591 [00:03<00:00, 1837.73it/s]\n"
     ]
    }
   ],
   "source": [
    "# Get all files and extract IDs\n",
    "files = [f for f in os.listdir(atoms_train_dir) if f.endswith(\".xyz\")]\n",
    "\n",
    "# Extract IDs and sort numerically\n",
    "files.sort(key=lambda x: int(x.split(\"_\")[1].split(\".\")[0]))\n",
    "\n",
    "data = []\n",
    "for fname in tqdm(files):\n",
    "    mol_id = int(fname.split(\"_\")[1].split(\".\")[0])\n",
    "    xyz_path = os.path.join(atoms_train_dir, fname)\n",
    "    feats = extract_features(xyz_path)\n",
    "    feats[\"id\"] = mol_id  # Use the extracted ID\n",
    "    data.append(feats)\n",
    "\n",
    "features_df = pd.DataFrame(data)"
   ]
  },
  {
   "cell_type": "code",
   "execution_count": 22,
   "metadata": {},
   "outputs": [
    {
     "data": {
      "text/html": [
       "<div>\n",
       "<style scoped>\n",
       "    .dataframe tbody tr th:only-of-type {\n",
       "        vertical-align: middle;\n",
       "    }\n",
       "\n",
       "    .dataframe tbody tr th {\n",
       "        vertical-align: top;\n",
       "    }\n",
       "\n",
       "    .dataframe thead th {\n",
       "        text-align: right;\n",
       "    }\n",
       "</style>\n",
       "<table border=\"1\" class=\"dataframe\">\n",
       "  <thead>\n",
       "    <tr style=\"text-align: right;\">\n",
       "      <th></th>\n",
       "      <th>nb_atoms</th>\n",
       "      <th>masse_totale</th>\n",
       "      <th>Z_moyen</th>\n",
       "      <th>dist_centre_max</th>\n",
       "      <th>id</th>\n",
       "    </tr>\n",
       "  </thead>\n",
       "  <tbody>\n",
       "    <tr>\n",
       "      <th>0</th>\n",
       "      <td>20</td>\n",
       "      <td>99.177</td>\n",
       "      <td>2.800</td>\n",
       "      <td>4.426248</td>\n",
       "      <td>1</td>\n",
       "    </tr>\n",
       "    <tr>\n",
       "      <th>1</th>\n",
       "      <td>15</td>\n",
       "      <td>87.122</td>\n",
       "      <td>3.200</td>\n",
       "      <td>3.174427</td>\n",
       "      <td>2</td>\n",
       "    </tr>\n",
       "    <tr>\n",
       "      <th>2</th>\n",
       "      <td>15</td>\n",
       "      <td>87.122</td>\n",
       "      <td>3.200</td>\n",
       "      <td>3.248984</td>\n",
       "      <td>3</td>\n",
       "    </tr>\n",
       "    <tr>\n",
       "      <th>3</th>\n",
       "      <td>16</td>\n",
       "      <td>90.122</td>\n",
       "      <td>3.125</td>\n",
       "      <td>2.853333</td>\n",
       "      <td>4</td>\n",
       "    </tr>\n",
       "    <tr>\n",
       "      <th>4</th>\n",
       "      <td>16</td>\n",
       "      <td>95.145</td>\n",
       "      <td>3.250</td>\n",
       "      <td>3.135213</td>\n",
       "      <td>5</td>\n",
       "    </tr>\n",
       "  </tbody>\n",
       "</table>\n",
       "</div>"
      ],
      "text/plain": [
       "   nb_atoms  masse_totale  Z_moyen  dist_centre_max  id\n",
       "0        20        99.177    2.800         4.426248   1\n",
       "1        15        87.122    3.200         3.174427   2\n",
       "2        15        87.122    3.200         3.248984   3\n",
       "3        16        90.122    3.125         2.853333   4\n",
       "4        16        95.145    3.250         3.135213   5"
      ]
     },
     "execution_count": 22,
     "metadata": {},
     "output_type": "execute_result"
    }
   ],
   "source": [
    "features_df.head()"
   ]
  },
  {
   "cell_type": "code",
   "execution_count": 23,
   "metadata": {},
   "outputs": [
    {
     "name": "stdout",
     "output_type": "stream",
     "text": [
      "   id  nb_atoms  masse_totale  Z_moyen  dist_centre_max     energy\n",
      "0   1        20        99.177    2.800         4.426248 -90.107880\n",
      "1   2        15        87.122    3.200         3.174427 -69.927647\n",
      "2   3        15        87.122    3.200         3.248984 -69.979214\n",
      "3   4        16        90.122    3.125         2.853333 -73.402302\n",
      "4   5        16        95.145    3.250         3.135213 -78.936724\n"
     ]
    }
   ],
   "source": [
    "merged_df = pd.merge(features_df, energies_df, on=\"id\")[['id', 'nb_atoms', 'masse_totale', 'Z_moyen', 'dist_centre_max', 'energy']]\n",
    "print(merged_df.head())"
   ]
  },
  {
   "cell_type": "code",
   "execution_count": null,
   "metadata": {},
   "outputs": [],
   "source": [
    "# # Load both\n",
    "# pred_df = pd.read_csv(pred_csv)\n",
    "\n",
    "# # Merge by id to ensure alignment\n",
    "# merged = pd.merge(energies_df, pred_df, on=\"id\", suffixes=(\"_true\", \"_pred\"))\n",
    "\n",
    "# # Compute RMSE\n",
    "# rmse = np.sqrt(np.mean((merged[\"energy_true\"] - merged[\"energy_pred\"]) ** 2))\n",
    "# print(f\"RMSE: {rmse:.6f}\")"
   ]
  }
 ],
 "metadata": {
  "kernelspec": {
   "display_name": "optim",
   "language": "python",
   "name": "python3"
  },
  "language_info": {
   "codemirror_mode": {
    "name": "ipython",
    "version": 3
   },
   "file_extension": ".py",
   "mimetype": "text/x-python",
   "name": "python",
   "nbconvert_exporter": "python",
   "pygments_lexer": "ipython3",
   "version": "3.10.13"
  }
 },
 "nbformat": 4,
 "nbformat_minor": 2
}
